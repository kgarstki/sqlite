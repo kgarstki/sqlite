{
 "cells": [
  {
   "cell_type": "markdown",
   "metadata": {},
   "source": [
    "This notebook assumes that you've already created the file `roman.db` in the [intro to sql](intro to sql.ipynb) notebook. It shows how to load a sqlite database into R."
   ]
  },
  {
   "cell_type": "code",
   "execution_count": null,
   "metadata": {},
   "outputs": [],
   "source": [
    "# first we get the packages we need:\n",
    "library(DBI)\n",
    "library(RSQLite)"
   ]
  },
  {
   "cell_type": "code",
   "execution_count": null,
   "metadata": {},
   "outputs": [],
   "source": [
    "# now we open the connection:\n",
    "\n",
    "con = dbConnect(SQLite(), dbname=\"roman.db\")\n",
    "\n",
    "# we can see what's inside, eg, what tables are in the database?\n",
    "alltables = dbListTables(con)\n",
    "alltables\n",
    "\n"
   ]
  },
  {
   "cell_type": "code",
   "execution_count": null,
   "metadata": {},
   "outputs": [],
   "source": [
    "# write the query to get the information you want\n",
    "\n",
    "myQuery <- dbSendQuery(con, \"SELECT * FROM amphi WHERE chronogroup = 'flavian'\")\n",
    "\n",
    "# pass that information to an R object. The n = -1 bit means grab everything until there's nothing left to grab. Otherwise, you can specify how many rows etc.\n",
    "\n",
    "my_data <- dbFetch(myQuery, n = -1)\n",
    "\n",
    "my_data"
   ]
  },
  {
   "cell_type": "code",
   "execution_count": null,
   "metadata": {},
   "outputs": [],
   "source": [
    "# now that we're done, clear cache \n",
    "dbClearResult(myQuery)\n",
    "\n",
    "# now carry on and begin manipulating my_data\n",
    "# for more information see\n",
    "# http://tiffanytimbers.com/querying-sqlite-databases-from-r/\n",
    "# also perhaps this https://www.r-bloggers.com/using-sqlite-in-r/"
   ]
  }
 ],
 "metadata": {
  "kernelspec": {
   "display_name": "R",
   "language": "R",
   "name": "ir"
  },
  "language_info": {
   "codemirror_mode": "r",
   "file_extension": ".r",
   "mimetype": "text/x-r-source",
   "name": "R",
   "pygments_lexer": "r",
   "version": "3.4.3"
  }
 },
 "nbformat": 4,
 "nbformat_minor": 2
}
