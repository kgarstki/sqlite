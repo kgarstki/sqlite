{
 "cells": [
  {
   "cell_type": "markdown",
   "metadata": {},
   "source": [
    "This notebook assumes that you've already created the file `roman.db` in the [intro to sql](intro to sql.ipynb) notebook. It shows how to load a sqlite database into R."
   ]
  },
  {
   "cell_type": "code",
   "execution_count": 1,
   "metadata": {},
   "outputs": [],
   "source": [
    "# first we get the packages we need:\n",
    "library(DBI)\n",
    "library(RSQLite)"
   ]
  },
  {
   "cell_type": "code",
   "execution_count": 2,
   "metadata": {},
   "outputs": [
    {
     "data": {
      "text/html": [
       "<ol class=list-inline>\n",
       "\t<li>'_source_info_'</li>\n",
       "\t<li>'amphi'</li>\n",
       "\t<li>'aqua'</li>\n",
       "\t<li>'sqlite_sequence'</li>\n",
       "</ol>\n"
      ],
      "text/latex": [
       "\\begin{enumerate*}\n",
       "\\item '\\_source\\_info\\_'\n",
       "\\item 'amphi'\n",
       "\\item 'aqua'\n",
       "\\item 'sqlite\\_sequence'\n",
       "\\end{enumerate*}\n"
      ],
      "text/markdown": [
       "1. '_source_info_'\n",
       "2. 'amphi'\n",
       "3. 'aqua'\n",
       "4. 'sqlite_sequence'\n",
       "\n",
       "\n"
      ],
      "text/plain": [
       "[1] \"_source_info_\"   \"amphi\"           \"aqua\"            \"sqlite_sequence\""
      ]
     },
     "metadata": {},
     "output_type": "display_data"
    }
   ],
   "source": [
    "# now we open the connection:\n",
    "\n",
    "con = dbConnect(SQLite(), dbname=\"roman.db\")\n",
    "\n",
    "# we can see what's inside, eg, what tables are in the database?\n",
    "alltables = dbListTables(con)\n",
    "alltables\n",
    "\n"
   ]
  },
  {
   "cell_type": "code",
   "execution_count": 3,
   "metadata": {},
   "outputs": [
    {
     "name": "stderr",
     "output_type": "stream",
     "text": [
      "Warning message in result_fetch(res@ptr, n = n):\n",
      "“Column `golvinid`: mixed type, first seen values of type integer, coercing other values of type string”Warning message in result_fetch(res@ptr, n = n):\n",
      "“Column `capacity`: mixed type, first seen values of type integer, coercing other values of type string”Warning message in result_fetch(res@ptr, n = n):\n",
      "“Column `arenamajor`: mixed type, first seen values of type real, coercing other values of type string”Warning message in result_fetch(res@ptr, n = n):\n",
      "“Column `arenaminor`: mixed type, first seen values of type real, coercing other values of type string”Warning message in result_fetch(res@ptr, n = n):\n",
      "“Column `extmajor`: mixed type, first seen values of type real, coercing other values of type string”Warning message in result_fetch(res@ptr, n = n):\n",
      "“Column `extminor`: mixed type, first seen values of type real, coercing other values of type string”Warning message in result_fetch(res@ptr, n = n):\n",
      "“Column `exteriorheight`: mixed type, first seen values of type string, coercing other values of type real”"
     ]
    },
    {
     "data": {
      "text/html": [
       "<table>\n",
       "<thead><tr><th scope=col>id</th><th scope=col>title</th><th scope=col>label</th><th scope=col>latintoponym</th><th scope=col>pleiades</th><th scope=col>welchid</th><th scope=col>golvinid</th><th scope=col>buildingtype</th><th scope=col>chronogroup</th><th scope=col>secondcentury</th><th scope=col>⋯</th><th scope=col>modcountry</th><th scope=col>romanregion</th><th scope=col>arenamajor</th><th scope=col>arenaminor</th><th scope=col>extmajor</th><th scope=col>extminor</th><th scope=col>exteriorheight</th><th scope=col>longitude</th><th scope=col>latitude</th><th scope=col>elevation</th></tr></thead>\n",
       "<tbody>\n",
       "\t<tr><td>arlesAmphitheater                          </td><td>Amphitheater at Arles                      </td><td>Arles                                      </td><td>Arelate                                    </td><td>https://pleiades.stoa.org/places/148217    </td><td>                                           </td><td>154                                        </td><td>amphitheater                               </td><td>flavian                                    </td><td>1                                          </td><td>⋯                                          </td><td>France                                     </td><td>narbonensis                                </td><td>47.00                                      </td><td>32.00                                      </td><td>136.0                                      </td><td>107.0                                      </td><td>                                           </td><td> 4.631111                                  </td><td>43.67778                                   </td><td> 21                                        </td></tr>\n",
       "\t<tr><td>romeFlavianAmphitheater                    </td><td>Flavian Amphitheater at Rome               </td><td>Colosseum                                  </td><td>                                           </td><td>https://pleiades.stoa.org/places/423025    </td><td>                                           </td><td>152                                        </td><td>amphitheater                               </td><td>flavian                                    </td><td>1                                          </td><td>⋯                                          </td><td>Italy                                      </td><td>regio-i                                    </td><td>83.00                                      </td><td>48.00                                      </td><td>189.0                                      </td><td>156.0                                      </td><td>52.0                                       </td><td>12.492269                                  </td><td>41.89017                                   </td><td> 22                                        </td></tr>\n",
       "\t<tr><td>newsteadAmphitheater                       </td><td>Amphitheater at Newstead                   </td><td>Newstead                                   </td><td>Trimontium                                 </td><td>https://pleiades.stoa.org/places/89304     </td><td>                                           </td><td>  0                                        </td><td>amphitheater                               </td><td>flavian                                    </td><td>1                                          </td><td>⋯                                          </td><td>United Kingdom                             </td><td>britannia                                  </td><td>37.00                                      </td><td>23.00                                      </td><td> 70.0                                      </td><td> 60.0                                      </td><td>                                           </td><td>-2.691900                                  </td><td>55.60260                                   </td><td> 83                                        </td></tr>\n",
       "\t<tr><td>pozzuoliFlavianAmphitheater                </td><td>Flavian Amphitheater at Pozzuoli           </td><td>Pozzuoli (Flavian)                         </td><td>Puteoli                                    </td><td>https://pleiades.stoa.org/places/432815    </td><td>                                           </td><td>153                                        </td><td>amphitheater                               </td><td>flavian                                    </td><td>1                                          </td><td>⋯                                          </td><td>Italy                                      </td><td>regio-i                                    </td><td>74.80                                      </td><td>42.00                                      </td><td>149.0                                      </td><td>116.0                                      </td><td>                                           </td><td>14.125315                                  </td><td>40.82593                                   </td><td> 41                                        </td></tr>\n",
       "\t<tr><td>segobrigaAmphitheater                      </td><td>Amphitheater at Segobriga                  </td><td>Segobriga                                  </td><td>Segobriga                                  </td><td>https://pleiades.stoa.org/places/266036    </td><td>                                           </td><td> 88                                        </td><td>amphitheater                               </td><td>flavian                                    </td><td>1                                          </td><td>⋯                                          </td><td>Spain                                      </td><td>tarraconensis                              </td><td>47.00                                      </td><td>31.00                                      </td><td> 75.0                                      </td><td> 64.0                                      </td><td>                                           </td><td>-2.813944                                  </td><td>39.88602                                   </td><td>817                                        </td></tr>\n",
       "\t<tr><td>parisAmphitheater                          </td><td>Amphitheater at Paris                      </td><td>Paris                                      </td><td>Lutetia Parisiorum                         </td><td>https://pleiades.stoa.org/places/109126    </td><td>                                           </td><td>  0                                        </td><td>gallo-roman-amphitheater                   </td><td>flavian                                    </td><td>1                                          </td><td>⋯                                          </td><td>France                                     </td><td>lugdunensis                                </td><td> 0.00                                      </td><td> 0.00                                      </td><td>  0.0                                      </td><td>  0.0                                      </td><td>                                           </td><td> 2.352855                                  </td><td>48.84510                                   </td><td> 46                                        </td></tr>\n",
       "\t<tr><td>nimesAmphitheater                          </td><td>Amphitheater at Nimes                      </td><td>Nimes                                      </td><td>Nemausus                                   </td><td>https://pleiades.stoa.org/places/148142    </td><td>                                           </td><td>  0                                        </td><td>amphitheater                               </td><td>flavian                                    </td><td>1                                          </td><td>⋯                                          </td><td>France                                     </td><td>narbonensis                                </td><td>69.10                                      </td><td>38.40                                      </td><td>133.4                                      </td><td>101.4                                      </td><td>                                           </td><td> 4.359599                                  </td><td>43.83488                                   </td><td> 50                                        </td></tr>\n",
       "\t<tr><td>chesterAmphitheater                        </td><td>Amphitheater at Chester                    </td><td>Chester                                    </td><td>Deva Victrix                               </td><td>https://pleiades.stoa.org/places/79420     </td><td>                                           </td><td>  0                                        </td><td>amphitheater                               </td><td>flavian                                    </td><td>1                                          </td><td>⋯                                          </td><td>United Kingdom                             </td><td>britannia                                  </td><td>56.70                                      </td><td>48.30                                      </td><td> 95.5                                      </td><td> 86.6                                      </td><td>                                           </td><td>-2.886928                                  </td><td>53.18908                                   </td><td> 23                                        </td></tr>\n",
       "\t<tr><td>arezzoAmphitheater                         </td><td>Amphitheater at Arezzo                     </td><td>Arezzo                                     </td><td>Arretium                                   </td><td>https://pleiades.stoa.org/places/413032    </td><td>                                           </td><td>  0                                        </td><td>amphitheater                               </td><td>flavian                                    </td><td>1                                          </td><td>⋯                                          </td><td>Italy                                      </td><td>regio-vii                                  </td><td>71.90                                      </td><td>42.70                                      </td><td>109.4                                      </td><td> 80.0                                      </td><td>                                           </td><td>11.880370                                  </td><td>43.46049                                   </td><td>263                                        </td></tr>\n",
       "\t<tr><td>londonAmphitheater                         </td><td>Amphitheater at London                     </td><td>London                                     </td><td>Londinium                                  </td><td>https://pleiades.stoa.org/places/79574     </td><td>                                           </td><td>  0                                        </td><td>amphitheater                               </td><td>flavian                                    </td><td>1                                          </td><td>⋯                                          </td><td>United Kingdom                             </td><td>britannia                                  </td><td>60.00                                      </td><td>40.00                                      </td><td>100.0                                      </td><td> 85.0                                      </td><td>                                           </td><td>-0.092136                                  </td><td>51.51552                                   </td><td> 29                                        </td></tr>\n",
       "\t<tr><td>urbisagliaAmphitheater                     </td><td>Amphitheater at Urbs Salvia                </td><td>Urbs Salvia                                </td><td>Urbs Saglia                                </td><td>https://pleiades.stoa.org/places/413364    </td><td>                                           </td><td>  0                                        </td><td>amphitheater                               </td><td>flavian                                    </td><td>1                                          </td><td>⋯                                          </td><td>Italy                                      </td><td>regio-v                                    </td><td>59.00                                      </td><td>35.00                                      </td><td> 98.0                                      </td><td> 71.0                                      </td><td>                                           </td><td>13.387224                                  </td><td>43.20088                                   </td><td>219                                        </td></tr>\n",
       "\t<tr><td>vindonissaAmphitheater                     </td><td>Amphitheater at Vindonissa                 </td><td>Vindonissa                                 </td><td>                                           </td><td>https://pleiades.stoa.org/places/177661    </td><td>                                           </td><td> 17                                        </td><td>amphitheater                               </td><td>flavian                                    </td><td>1                                          </td><td>⋯                                          </td><td>Switzerland                                </td><td>germania-superior                          </td><td>64.00                                      </td><td>51.00                                      </td><td>112.0                                      </td><td> 98.0                                      </td><td>                                           </td><td> 8.213605                                  </td><td>47.47629                                   </td><td>361                                        </td></tr>\n",
       "\t<tr><td>frejusAmphitheater                         </td><td>Amphitheater Fréjus                        </td><td>Fréjus                                     </td><td>Forum Julii                                </td><td>https://pleiades.stoa.org/places/157836    </td><td>                                           </td><td>  0                                        </td><td>amphitheater                               </td><td>flavian                                    </td><td>1                                          </td><td>⋯                                          </td><td>France                                     </td><td>narbonensis                                </td><td>67.70                                      </td><td>39.70                                      </td><td>113.7                                      </td><td> 85.7                                      </td><td>                                           </td><td> 6.728710                                  </td><td>43.43446                                   </td><td> 12                                        </td></tr>\n",
       "\t<tr><td>tebessaAmphitheater                        </td><td>Amphitheater at Theveste                   </td><td>Tebessa                                    </td><td>Theveste                                   </td><td>https://pleiades.stoa.org/places/324831    </td><td>                                           </td><td>  0                                        </td><td>amphitheater                               </td><td>flavian                                    </td><td>1                                          </td><td>⋯                                          </td><td>Algeria                                    </td><td>proconsularis                              </td><td>52.80                                      </td><td>39.50                                      </td><td> 83.0                                      </td><td> 70.0                                      </td><td>                                           </td><td> 8.123809                                  </td><td>35.40117                                   </td><td>877                                        </td></tr>\n",
       "\t<tr><td>aquileiaAmphitheater                       </td><td>Amphitheater at Aquileia                   </td><td>Aquileia                                   </td><td>Aquileia                                   </td><td>https://pleiades.stoa.org/places/187290    </td><td>                                           </td><td>  0                                        </td><td>amphitheater                               </td><td>flavian                                    </td><td>1                                          </td><td>⋯                                          </td><td>Italy                                      </td><td>regio-x                                    </td><td>72.00                                      </td><td>46.00                                      </td><td>142.0                                      </td><td>118.0                                      </td><td>                                           </td><td>13.370713                                  </td><td>45.76824                                   </td><td>  2                                        </td></tr>\n",
       "\t<tr><td>terminiImereseAmphitheater                 </td><td>Amphitheater at Termini Imerese            </td><td>Termini                                    </td><td>Thermae Himerae                            </td><td>https://pleiades.stoa.org/places/462513    </td><td>                                           </td><td>164                                        </td><td>amphitheater                               </td><td>flavian                                    </td><td>1                                          </td><td>⋯                                          </td><td>Italy                                      </td><td>sicilia                                    </td><td>53.00                                      </td><td>30.00                                      </td><td> 98.0                                      </td><td> 75.0                                      </td><td>                                           </td><td>13.695186                                  </td><td>37.98370                                   </td><td> 76                                        </td></tr>\n",
       "\t<tr><td>bolsenaAmphitheater                        </td><td>Amphitheater at Bolsena                    </td><td>Bolsena                                    </td><td>Volsinii Novi                              </td><td>https://pleiades.stoa.org/places/413389    </td><td>                                           </td><td>  0                                        </td><td>amphitheater                               </td><td>flavian                                    </td><td>1                                          </td><td>⋯                                          </td><td>Italy                                      </td><td>regio-vii                                  </td><td> 0.00                                      </td><td> 0.00                                      </td><td>  0.0                                      </td><td>  0.0                                      </td><td>                                           </td><td>11.990158                                  </td><td>42.65024                                   </td><td>417                                        </td></tr>\n",
       "\t<tr><td>narbonneAmphitheater                       </td><td>Amphitheater at Narbonne                   </td><td>Narbonne                                   </td><td>Narbo                                      </td><td>https://pleiades.stoa.org/places/246347    </td><td>                                           </td><td>  0                                        </td><td>amphitheater                               </td><td>flavian                                    </td><td>1                                          </td><td>⋯                                          </td><td>France                                     </td><td>narbonensis                                </td><td>75.00                                      </td><td>46.60                                      </td><td>121.6                                      </td><td> 93.2                                      </td><td>                                           </td><td> 3.010181                                  </td><td>43.18487                                   </td><td> 14                                        </td></tr>\n",
       "\t<tr><td>capuaImperialAmphitheater                  </td><td>Imperial Amphitheater at Capua             </td><td>Capua II                                   </td><td>Capua                                      </td><td>https://pleiades.stoa.org/places/432754    </td><td>                                           </td><td>  0                                        </td><td>amphitheater                               </td><td>flavian                                    </td><td>1                                          </td><td>⋯                                          </td><td>Italy                                      </td><td>regio-i                                    </td><td>76.12                                      </td><td>45.83                                      </td><td>165.0                                      </td><td>135.0                                      </td><td>                                           </td><td>14.250089                                  </td><td>41.08593                                   </td><td> 34                                        </td></tr>\n",
       "\t<tr><td>dorchesterAmphitheater                     </td><td>Amphitheater at Dorchester / Maumbury Henge</td><td>Maumbury                                   </td><td>Durnovaria                                 </td><td>https://pleiades.stoa.org/places/79431     </td><td>                                           </td><td>  0                                        </td><td>amphitheater                               </td><td>flavian                                    </td><td>1                                          </td><td>⋯                                          </td><td>United Kingdom                             </td><td>britannia                                  </td><td>58.00                                      </td><td>47.00                                      </td><td> 80.0                                      </td><td> 77.0                                      </td><td>                                           </td><td>-2.440246                                  </td><td>50.70804                                   </td><td> 78                                        </td></tr>\n",
       "\t<tr><td>autunAmphitheater                          </td><td>Amphitheater at Autun                      </td><td>Autun                                      </td><td>Augustodunum                               </td><td>https://pleiades.stoa.org/places/177460    </td><td>                                           </td><td>157                                        </td><td>amphitheater                               </td><td>flavian                                    </td><td>1                                          </td><td>⋯                                          </td><td>France                                     </td><td>lugdunensis                                </td><td>74.00                                      </td><td>49.00                                      </td><td>154.0                                      </td><td>130.0                                      </td><td>                                           </td><td> 4.310856                                  </td><td>46.95300                                   </td><td>317                                        </td></tr>\n",
       "\t<tr><td>bobadelaAmphitheater                       </td><td>Amphitheater at Bobadela                   </td><td>Bobadela                                   </td><td>Elbocoris                                  </td><td>https://pleiades.stoa.org/places/236458    </td><td>                                           </td><td>  0                                        </td><td>amphitheater                               </td><td>flavian                                    </td><td>1                                          </td><td>⋯                                          </td><td>Portugal                                   </td><td>lusitania                                  </td><td>50.00                                      </td><td>40.00                                      </td><td>  0.0                                      </td><td>  0.0                                      </td><td>                                           </td><td>-7.893572                                  </td><td>40.36109                                   </td><td>383                                        </td></tr>\n",
       "\t<tr><td>chichesterAmphitheater                     </td><td>Amphitheater at Chichester                 </td><td>Chichester                                 </td><td>Noviomagus Reginorum                       </td><td>https://pleiades.stoa.org/places/79622     </td><td>                                           </td><td>  0                                        </td><td>amphitheater                               </td><td>flavian                                    </td><td>1                                          </td><td>⋯                                          </td><td>United Kingdom                             </td><td>britannia                                  </td><td> 0.00                                      </td><td> 0.00                                      </td><td> 70.0                                      </td><td> 60.0                                      </td><td>                                           </td><td>-0.771186                                  </td><td>50.83539                                   </td><td> 14                                        </td></tr>\n",
       "</tbody>\n",
       "</table>\n"
      ],
      "text/latex": [
       "\\begin{tabular}{r|lllllllllllllllllllll}\n",
       " id & title & label & latintoponym & pleiades & welchid & golvinid & buildingtype & chronogroup & secondcentury & ⋯ & modcountry & romanregion & arenamajor & arenaminor & extmajor & extminor & exteriorheight & longitude & latitude & elevation\\\\\n",
       "\\hline\n",
       "\t arlesAmphitheater                           & Amphitheater at Arles                       & Arles                                       & Arelate                                     & https://pleiades.stoa.org/places/148217     &                                             & 154                                         & amphitheater                                & flavian                                     & 1                                           & ⋯                                           & France                                      & narbonensis                                 & 47.00                                       & 32.00                                       & 136.0                                       & 107.0                                       &                                             &  4.631111                                   & 43.67778                                    &  21                                        \\\\\n",
       "\t romeFlavianAmphitheater                     & Flavian Amphitheater at Rome                & Colosseum                                   &                                             & https://pleiades.stoa.org/places/423025     &                                             & 152                                         & amphitheater                                & flavian                                     & 1                                           & ⋯                                           & Italy                                       & regio-i                                     & 83.00                                       & 48.00                                       & 189.0                                       & 156.0                                       & 52.0                                        & 12.492269                                   & 41.89017                                    &  22                                        \\\\\n",
       "\t newsteadAmphitheater                        & Amphitheater at Newstead                    & Newstead                                    & Trimontium                                  & https://pleiades.stoa.org/places/89304      &                                             &   0                                         & amphitheater                                & flavian                                     & 1                                           & ⋯                                           & United Kingdom                              & britannia                                   & 37.00                                       & 23.00                                       &  70.0                                       &  60.0                                       &                                             & -2.691900                                   & 55.60260                                    &  83                                        \\\\\n",
       "\t pozzuoliFlavianAmphitheater                 & Flavian Amphitheater at Pozzuoli            & Pozzuoli (Flavian)                          & Puteoli                                     & https://pleiades.stoa.org/places/432815     &                                             & 153                                         & amphitheater                                & flavian                                     & 1                                           & ⋯                                           & Italy                                       & regio-i                                     & 74.80                                       & 42.00                                       & 149.0                                       & 116.0                                       &                                             & 14.125315                                   & 40.82593                                    &  41                                        \\\\\n",
       "\t segobrigaAmphitheater                       & Amphitheater at Segobriga                   & Segobriga                                   & Segobriga                                   & https://pleiades.stoa.org/places/266036     &                                             &  88                                         & amphitheater                                & flavian                                     & 1                                           & ⋯                                           & Spain                                       & tarraconensis                               & 47.00                                       & 31.00                                       &  75.0                                       &  64.0                                       &                                             & -2.813944                                   & 39.88602                                    & 817                                        \\\\\n",
       "\t parisAmphitheater                           & Amphitheater at Paris                       & Paris                                       & Lutetia Parisiorum                          & https://pleiades.stoa.org/places/109126     &                                             &   0                                         & gallo-roman-amphitheater                    & flavian                                     & 1                                           & ⋯                                           & France                                      & lugdunensis                                 &  0.00                                       &  0.00                                       &   0.0                                       &   0.0                                       &                                             &  2.352855                                   & 48.84510                                    &  46                                        \\\\\n",
       "\t nimesAmphitheater                           & Amphitheater at Nimes                       & Nimes                                       & Nemausus                                    & https://pleiades.stoa.org/places/148142     &                                             &   0                                         & amphitheater                                & flavian                                     & 1                                           & ⋯                                           & France                                      & narbonensis                                 & 69.10                                       & 38.40                                       & 133.4                                       & 101.4                                       &                                             &  4.359599                                   & 43.83488                                    &  50                                        \\\\\n",
       "\t chesterAmphitheater                         & Amphitheater at Chester                     & Chester                                     & Deva Victrix                                & https://pleiades.stoa.org/places/79420      &                                             &   0                                         & amphitheater                                & flavian                                     & 1                                           & ⋯                                           & United Kingdom                              & britannia                                   & 56.70                                       & 48.30                                       &  95.5                                       &  86.6                                       &                                             & -2.886928                                   & 53.18908                                    &  23                                        \\\\\n",
       "\t arezzoAmphitheater                          & Amphitheater at Arezzo                      & Arezzo                                      & Arretium                                    & https://pleiades.stoa.org/places/413032     &                                             &   0                                         & amphitheater                                & flavian                                     & 1                                           & ⋯                                           & Italy                                       & regio-vii                                   & 71.90                                       & 42.70                                       & 109.4                                       &  80.0                                       &                                             & 11.880370                                   & 43.46049                                    & 263                                        \\\\\n",
       "\t londonAmphitheater                          & Amphitheater at London                      & London                                      & Londinium                                   & https://pleiades.stoa.org/places/79574      &                                             &   0                                         & amphitheater                                & flavian                                     & 1                                           & ⋯                                           & United Kingdom                              & britannia                                   & 60.00                                       & 40.00                                       & 100.0                                       &  85.0                                       &                                             & -0.092136                                   & 51.51552                                    &  29                                        \\\\\n",
       "\t urbisagliaAmphitheater                      & Amphitheater at Urbs Salvia                 & Urbs Salvia                                 & Urbs Saglia                                 & https://pleiades.stoa.org/places/413364     &                                             &   0                                         & amphitheater                                & flavian                                     & 1                                           & ⋯                                           & Italy                                       & regio-v                                     & 59.00                                       & 35.00                                       &  98.0                                       &  71.0                                       &                                             & 13.387224                                   & 43.20088                                    & 219                                        \\\\\n",
       "\t vindonissaAmphitheater                      & Amphitheater at Vindonissa                  & Vindonissa                                  &                                             & https://pleiades.stoa.org/places/177661     &                                             &  17                                         & amphitheater                                & flavian                                     & 1                                           & ⋯                                           & Switzerland                                 & germania-superior                           & 64.00                                       & 51.00                                       & 112.0                                       &  98.0                                       &                                             &  8.213605                                   & 47.47629                                    & 361                                        \\\\\n",
       "\t frejusAmphitheater                          & Amphitheater Fréjus                         & Fréjus                                      & Forum Julii                                 & https://pleiades.stoa.org/places/157836     &                                             &   0                                         & amphitheater                                & flavian                                     & 1                                           & ⋯                                           & France                                      & narbonensis                                 & 67.70                                       & 39.70                                       & 113.7                                       &  85.7                                       &                                             &  6.728710                                   & 43.43446                                    &  12                                        \\\\\n",
       "\t tebessaAmphitheater                         & Amphitheater at Theveste                    & Tebessa                                     & Theveste                                    & https://pleiades.stoa.org/places/324831     &                                             &   0                                         & amphitheater                                & flavian                                     & 1                                           & ⋯                                           & Algeria                                     & proconsularis                               & 52.80                                       & 39.50                                       &  83.0                                       &  70.0                                       &                                             &  8.123809                                   & 35.40117                                    & 877                                        \\\\\n",
       "\t aquileiaAmphitheater                        & Amphitheater at Aquileia                    & Aquileia                                    & Aquileia                                    & https://pleiades.stoa.org/places/187290     &                                             &   0                                         & amphitheater                                & flavian                                     & 1                                           & ⋯                                           & Italy                                       & regio-x                                     & 72.00                                       & 46.00                                       & 142.0                                       & 118.0                                       &                                             & 13.370713                                   & 45.76824                                    &   2                                        \\\\\n",
       "\t terminiImereseAmphitheater                  & Amphitheater at Termini Imerese             & Termini                                     & Thermae Himerae                             & https://pleiades.stoa.org/places/462513     &                                             & 164                                         & amphitheater                                & flavian                                     & 1                                           & ⋯                                           & Italy                                       & sicilia                                     & 53.00                                       & 30.00                                       &  98.0                                       &  75.0                                       &                                             & 13.695186                                   & 37.98370                                    &  76                                        \\\\\n",
       "\t bolsenaAmphitheater                         & Amphitheater at Bolsena                     & Bolsena                                     & Volsinii Novi                               & https://pleiades.stoa.org/places/413389     &                                             &   0                                         & amphitheater                                & flavian                                     & 1                                           & ⋯                                           & Italy                                       & regio-vii                                   &  0.00                                       &  0.00                                       &   0.0                                       &   0.0                                       &                                             & 11.990158                                   & 42.65024                                    & 417                                        \\\\\n",
       "\t narbonneAmphitheater                        & Amphitheater at Narbonne                    & Narbonne                                    & Narbo                                       & https://pleiades.stoa.org/places/246347     &                                             &   0                                         & amphitheater                                & flavian                                     & 1                                           & ⋯                                           & France                                      & narbonensis                                 & 75.00                                       & 46.60                                       & 121.6                                       &  93.2                                       &                                             &  3.010181                                   & 43.18487                                    &  14                                        \\\\\n",
       "\t capuaImperialAmphitheater                   & Imperial Amphitheater at Capua              & Capua II                                    & Capua                                       & https://pleiades.stoa.org/places/432754     &                                             &   0                                         & amphitheater                                & flavian                                     & 1                                           & ⋯                                           & Italy                                       & regio-i                                     & 76.12                                       & 45.83                                       & 165.0                                       & 135.0                                       &                                             & 14.250089                                   & 41.08593                                    &  34                                        \\\\\n",
       "\t dorchesterAmphitheater                      & Amphitheater at Dorchester / Maumbury Henge & Maumbury                                    & Durnovaria                                  & https://pleiades.stoa.org/places/79431      &                                             &   0                                         & amphitheater                                & flavian                                     & 1                                           & ⋯                                           & United Kingdom                              & britannia                                   & 58.00                                       & 47.00                                       &  80.0                                       &  77.0                                       &                                             & -2.440246                                   & 50.70804                                    &  78                                        \\\\\n",
       "\t autunAmphitheater                           & Amphitheater at Autun                       & Autun                                       & Augustodunum                                & https://pleiades.stoa.org/places/177460     &                                             & 157                                         & amphitheater                                & flavian                                     & 1                                           & ⋯                                           & France                                      & lugdunensis                                 & 74.00                                       & 49.00                                       & 154.0                                       & 130.0                                       &                                             &  4.310856                                   & 46.95300                                    & 317                                        \\\\\n",
       "\t bobadelaAmphitheater                        & Amphitheater at Bobadela                    & Bobadela                                    & Elbocoris                                   & https://pleiades.stoa.org/places/236458     &                                             &   0                                         & amphitheater                                & flavian                                     & 1                                           & ⋯                                           & Portugal                                    & lusitania                                   & 50.00                                       & 40.00                                       &   0.0                                       &   0.0                                       &                                             & -7.893572                                   & 40.36109                                    & 383                                        \\\\\n",
       "\t chichesterAmphitheater                      & Amphitheater at Chichester                  & Chichester                                  & Noviomagus Reginorum                        & https://pleiades.stoa.org/places/79622      &                                             &   0                                         & amphitheater                                & flavian                                     & 1                                           & ⋯                                           & United Kingdom                              & britannia                                   &  0.00                                       &  0.00                                       &  70.0                                       &  60.0                                       &                                             & -0.771186                                   & 50.83539                                    &  14                                        \\\\\n",
       "\\end{tabular}\n"
      ],
      "text/markdown": [
       "\n",
       "id | title | label | latintoponym | pleiades | welchid | golvinid | buildingtype | chronogroup | secondcentury | ⋯ | modcountry | romanregion | arenamajor | arenaminor | extmajor | extminor | exteriorheight | longitude | latitude | elevation | \n",
       "|---|---|---|---|---|---|---|---|---|---|---|---|---|---|---|---|---|---|---|---|---|---|---|\n",
       "| arlesAmphitheater                           | Amphitheater at Arles                       | Arles                                       | Arelate                                     | https://pleiades.stoa.org/places/148217     |                                             | 154                                         | amphitheater                                | flavian                                     | 1                                           | ⋯                                           | France                                      | narbonensis                                 | 47.00                                       | 32.00                                       | 136.0                                       | 107.0                                       |                                             |  4.631111                                   | 43.67778                                    |  21                                         | \n",
       "| romeFlavianAmphitheater                     | Flavian Amphitheater at Rome                | Colosseum                                   |                                             | https://pleiades.stoa.org/places/423025     |                                             | 152                                         | amphitheater                                | flavian                                     | 1                                           | ⋯                                           | Italy                                       | regio-i                                     | 83.00                                       | 48.00                                       | 189.0                                       | 156.0                                       | 52.0                                        | 12.492269                                   | 41.89017                                    |  22                                         | \n",
       "| newsteadAmphitheater                        | Amphitheater at Newstead                    | Newstead                                    | Trimontium                                  | https://pleiades.stoa.org/places/89304      |                                             |   0                                         | amphitheater                                | flavian                                     | 1                                           | ⋯                                           | United Kingdom                              | britannia                                   | 37.00                                       | 23.00                                       |  70.0                                       |  60.0                                       |                                             | -2.691900                                   | 55.60260                                    |  83                                         | \n",
       "| pozzuoliFlavianAmphitheater                 | Flavian Amphitheater at Pozzuoli            | Pozzuoli (Flavian)                          | Puteoli                                     | https://pleiades.stoa.org/places/432815     |                                             | 153                                         | amphitheater                                | flavian                                     | 1                                           | ⋯                                           | Italy                                       | regio-i                                     | 74.80                                       | 42.00                                       | 149.0                                       | 116.0                                       |                                             | 14.125315                                   | 40.82593                                    |  41                                         | \n",
       "| segobrigaAmphitheater                       | Amphitheater at Segobriga                   | Segobriga                                   | Segobriga                                   | https://pleiades.stoa.org/places/266036     |                                             |  88                                         | amphitheater                                | flavian                                     | 1                                           | ⋯                                           | Spain                                       | tarraconensis                               | 47.00                                       | 31.00                                       |  75.0                                       |  64.0                                       |                                             | -2.813944                                   | 39.88602                                    | 817                                         | \n",
       "| parisAmphitheater                           | Amphitheater at Paris                       | Paris                                       | Lutetia Parisiorum                          | https://pleiades.stoa.org/places/109126     |                                             |   0                                         | gallo-roman-amphitheater                    | flavian                                     | 1                                           | ⋯                                           | France                                      | lugdunensis                                 |  0.00                                       |  0.00                                       |   0.0                                       |   0.0                                       |                                             |  2.352855                                   | 48.84510                                    |  46                                         | \n",
       "| nimesAmphitheater                           | Amphitheater at Nimes                       | Nimes                                       | Nemausus                                    | https://pleiades.stoa.org/places/148142     |                                             |   0                                         | amphitheater                                | flavian                                     | 1                                           | ⋯                                           | France                                      | narbonensis                                 | 69.10                                       | 38.40                                       | 133.4                                       | 101.4                                       |                                             |  4.359599                                   | 43.83488                                    |  50                                         | \n",
       "| chesterAmphitheater                         | Amphitheater at Chester                     | Chester                                     | Deva Victrix                                | https://pleiades.stoa.org/places/79420      |                                             |   0                                         | amphitheater                                | flavian                                     | 1                                           | ⋯                                           | United Kingdom                              | britannia                                   | 56.70                                       | 48.30                                       |  95.5                                       |  86.6                                       |                                             | -2.886928                                   | 53.18908                                    |  23                                         | \n",
       "| arezzoAmphitheater                          | Amphitheater at Arezzo                      | Arezzo                                      | Arretium                                    | https://pleiades.stoa.org/places/413032     |                                             |   0                                         | amphitheater                                | flavian                                     | 1                                           | ⋯                                           | Italy                                       | regio-vii                                   | 71.90                                       | 42.70                                       | 109.4                                       |  80.0                                       |                                             | 11.880370                                   | 43.46049                                    | 263                                         | \n",
       "| londonAmphitheater                          | Amphitheater at London                      | London                                      | Londinium                                   | https://pleiades.stoa.org/places/79574      |                                             |   0                                         | amphitheater                                | flavian                                     | 1                                           | ⋯                                           | United Kingdom                              | britannia                                   | 60.00                                       | 40.00                                       | 100.0                                       |  85.0                                       |                                             | -0.092136                                   | 51.51552                                    |  29                                         | \n",
       "| urbisagliaAmphitheater                      | Amphitheater at Urbs Salvia                 | Urbs Salvia                                 | Urbs Saglia                                 | https://pleiades.stoa.org/places/413364     |                                             |   0                                         | amphitheater                                | flavian                                     | 1                                           | ⋯                                           | Italy                                       | regio-v                                     | 59.00                                       | 35.00                                       |  98.0                                       |  71.0                                       |                                             | 13.387224                                   | 43.20088                                    | 219                                         | \n",
       "| vindonissaAmphitheater                      | Amphitheater at Vindonissa                  | Vindonissa                                  |                                             | https://pleiades.stoa.org/places/177661     |                                             |  17                                         | amphitheater                                | flavian                                     | 1                                           | ⋯                                           | Switzerland                                 | germania-superior                           | 64.00                                       | 51.00                                       | 112.0                                       |  98.0                                       |                                             |  8.213605                                   | 47.47629                                    | 361                                         | \n",
       "| frejusAmphitheater                          | Amphitheater Fréjus                         | Fréjus                                      | Forum Julii                                 | https://pleiades.stoa.org/places/157836     |                                             |   0                                         | amphitheater                                | flavian                                     | 1                                           | ⋯                                           | France                                      | narbonensis                                 | 67.70                                       | 39.70                                       | 113.7                                       |  85.7                                       |                                             |  6.728710                                   | 43.43446                                    |  12                                         | \n",
       "| tebessaAmphitheater                         | Amphitheater at Theveste                    | Tebessa                                     | Theveste                                    | https://pleiades.stoa.org/places/324831     |                                             |   0                                         | amphitheater                                | flavian                                     | 1                                           | ⋯                                           | Algeria                                     | proconsularis                               | 52.80                                       | 39.50                                       |  83.0                                       |  70.0                                       |                                             |  8.123809                                   | 35.40117                                    | 877                                         | \n",
       "| aquileiaAmphitheater                        | Amphitheater at Aquileia                    | Aquileia                                    | Aquileia                                    | https://pleiades.stoa.org/places/187290     |                                             |   0                                         | amphitheater                                | flavian                                     | 1                                           | ⋯                                           | Italy                                       | regio-x                                     | 72.00                                       | 46.00                                       | 142.0                                       | 118.0                                       |                                             | 13.370713                                   | 45.76824                                    |   2                                         | \n",
       "| terminiImereseAmphitheater                  | Amphitheater at Termini Imerese             | Termini                                     | Thermae Himerae                             | https://pleiades.stoa.org/places/462513     |                                             | 164                                         | amphitheater                                | flavian                                     | 1                                           | ⋯                                           | Italy                                       | sicilia                                     | 53.00                                       | 30.00                                       |  98.0                                       |  75.0                                       |                                             | 13.695186                                   | 37.98370                                    |  76                                         | \n",
       "| bolsenaAmphitheater                         | Amphitheater at Bolsena                     | Bolsena                                     | Volsinii Novi                               | https://pleiades.stoa.org/places/413389     |                                             |   0                                         | amphitheater                                | flavian                                     | 1                                           | ⋯                                           | Italy                                       | regio-vii                                   |  0.00                                       |  0.00                                       |   0.0                                       |   0.0                                       |                                             | 11.990158                                   | 42.65024                                    | 417                                         | \n",
       "| narbonneAmphitheater                        | Amphitheater at Narbonne                    | Narbonne                                    | Narbo                                       | https://pleiades.stoa.org/places/246347     |                                             |   0                                         | amphitheater                                | flavian                                     | 1                                           | ⋯                                           | France                                      | narbonensis                                 | 75.00                                       | 46.60                                       | 121.6                                       |  93.2                                       |                                             |  3.010181                                   | 43.18487                                    |  14                                         | \n",
       "| capuaImperialAmphitheater                   | Imperial Amphitheater at Capua              | Capua II                                    | Capua                                       | https://pleiades.stoa.org/places/432754     |                                             |   0                                         | amphitheater                                | flavian                                     | 1                                           | ⋯                                           | Italy                                       | regio-i                                     | 76.12                                       | 45.83                                       | 165.0                                       | 135.0                                       |                                             | 14.250089                                   | 41.08593                                    |  34                                         | \n",
       "| dorchesterAmphitheater                      | Amphitheater at Dorchester / Maumbury Henge | Maumbury                                    | Durnovaria                                  | https://pleiades.stoa.org/places/79431      |                                             |   0                                         | amphitheater                                | flavian                                     | 1                                           | ⋯                                           | United Kingdom                              | britannia                                   | 58.00                                       | 47.00                                       |  80.0                                       |  77.0                                       |                                             | -2.440246                                   | 50.70804                                    |  78                                         | \n",
       "| autunAmphitheater                           | Amphitheater at Autun                       | Autun                                       | Augustodunum                                | https://pleiades.stoa.org/places/177460     |                                             | 157                                         | amphitheater                                | flavian                                     | 1                                           | ⋯                                           | France                                      | lugdunensis                                 | 74.00                                       | 49.00                                       | 154.0                                       | 130.0                                       |                                             |  4.310856                                   | 46.95300                                    | 317                                         | \n",
       "| bobadelaAmphitheater                        | Amphitheater at Bobadela                    | Bobadela                                    | Elbocoris                                   | https://pleiades.stoa.org/places/236458     |                                             |   0                                         | amphitheater                                | flavian                                     | 1                                           | ⋯                                           | Portugal                                    | lusitania                                   | 50.00                                       | 40.00                                       |   0.0                                       |   0.0                                       |                                             | -7.893572                                   | 40.36109                                    | 383                                         | \n",
       "| chichesterAmphitheater                      | Amphitheater at Chichester                  | Chichester                                  | Noviomagus Reginorum                        | https://pleiades.stoa.org/places/79622      |                                             |   0                                         | amphitheater                                | flavian                                     | 1                                           | ⋯                                           | United Kingdom                              | britannia                                   |  0.00                                       |  0.00                                       |  70.0                                       |  60.0                                       |                                             | -0.771186                                   | 50.83539                                    |  14                                         | \n",
       "\n",
       "\n"
      ],
      "text/plain": [
       "   id                          title                                      \n",
       "1  arlesAmphitheater           Amphitheater at Arles                      \n",
       "2  romeFlavianAmphitheater     Flavian Amphitheater at Rome               \n",
       "3  newsteadAmphitheater        Amphitheater at Newstead                   \n",
       "4  pozzuoliFlavianAmphitheater Flavian Amphitheater at Pozzuoli           \n",
       "5  segobrigaAmphitheater       Amphitheater at Segobriga                  \n",
       "6  parisAmphitheater           Amphitheater at Paris                      \n",
       "7  nimesAmphitheater           Amphitheater at Nimes                      \n",
       "8  chesterAmphitheater         Amphitheater at Chester                    \n",
       "9  arezzoAmphitheater          Amphitheater at Arezzo                     \n",
       "10 londonAmphitheater          Amphitheater at London                     \n",
       "11 urbisagliaAmphitheater      Amphitheater at Urbs Salvia                \n",
       "12 vindonissaAmphitheater      Amphitheater at Vindonissa                 \n",
       "13 frejusAmphitheater          Amphitheater Fréjus                        \n",
       "14 tebessaAmphitheater         Amphitheater at Theveste                   \n",
       "15 aquileiaAmphitheater        Amphitheater at Aquileia                   \n",
       "16 terminiImereseAmphitheater  Amphitheater at Termini Imerese            \n",
       "17 bolsenaAmphitheater         Amphitheater at Bolsena                    \n",
       "18 narbonneAmphitheater        Amphitheater at Narbonne                   \n",
       "19 capuaImperialAmphitheater   Imperial Amphitheater at Capua             \n",
       "20 dorchesterAmphitheater      Amphitheater at Dorchester / Maumbury Henge\n",
       "21 autunAmphitheater           Amphitheater at Autun                      \n",
       "22 bobadelaAmphitheater        Amphitheater at Bobadela                   \n",
       "23 chichesterAmphitheater      Amphitheater at Chichester                 \n",
       "   label              latintoponym        \n",
       "1  Arles              Arelate             \n",
       "2  Colosseum                              \n",
       "3  Newstead           Trimontium          \n",
       "4  Pozzuoli (Flavian) Puteoli             \n",
       "5  Segobriga          Segobriga           \n",
       "6  Paris              Lutetia Parisiorum  \n",
       "7  Nimes              Nemausus            \n",
       "8  Chester            Deva Victrix        \n",
       "9  Arezzo             Arretium            \n",
       "10 London             Londinium           \n",
       "11 Urbs Salvia        Urbs Saglia         \n",
       "12 Vindonissa                             \n",
       "13 Fréjus             Forum Julii         \n",
       "14 Tebessa            Theveste            \n",
       "15 Aquileia           Aquileia            \n",
       "16 Termini            Thermae Himerae     \n",
       "17 Bolsena            Volsinii Novi       \n",
       "18 Narbonne           Narbo               \n",
       "19 Capua II           Capua               \n",
       "20 Maumbury           Durnovaria          \n",
       "21 Autun              Augustodunum        \n",
       "22 Bobadela           Elbocoris           \n",
       "23 Chichester         Noviomagus Reginorum\n",
       "   pleiades                                welchid golvinid\n",
       "1  https://pleiades.stoa.org/places/148217         154     \n",
       "2  https://pleiades.stoa.org/places/423025         152     \n",
       "3  https://pleiades.stoa.org/places/89304            0     \n",
       "4  https://pleiades.stoa.org/places/432815         153     \n",
       "5  https://pleiades.stoa.org/places/266036          88     \n",
       "6  https://pleiades.stoa.org/places/109126           0     \n",
       "7  https://pleiades.stoa.org/places/148142           0     \n",
       "8  https://pleiades.stoa.org/places/79420            0     \n",
       "9  https://pleiades.stoa.org/places/413032           0     \n",
       "10 https://pleiades.stoa.org/places/79574            0     \n",
       "11 https://pleiades.stoa.org/places/413364           0     \n",
       "12 https://pleiades.stoa.org/places/177661          17     \n",
       "13 https://pleiades.stoa.org/places/157836           0     \n",
       "14 https://pleiades.stoa.org/places/324831           0     \n",
       "15 https://pleiades.stoa.org/places/187290           0     \n",
       "16 https://pleiades.stoa.org/places/462513         164     \n",
       "17 https://pleiades.stoa.org/places/413389           0     \n",
       "18 https://pleiades.stoa.org/places/246347           0     \n",
       "19 https://pleiades.stoa.org/places/432754           0     \n",
       "20 https://pleiades.stoa.org/places/79431            0     \n",
       "21 https://pleiades.stoa.org/places/177460         157     \n",
       "22 https://pleiades.stoa.org/places/236458           0     \n",
       "23 https://pleiades.stoa.org/places/79622            0     \n",
       "   buildingtype             chronogroup secondcentury ⋯ modcountry    \n",
       "1  amphitheater             flavian     1             ⋯ France        \n",
       "2  amphitheater             flavian     1             ⋯ Italy         \n",
       "3  amphitheater             flavian     1             ⋯ United Kingdom\n",
       "4  amphitheater             flavian     1             ⋯ Italy         \n",
       "5  amphitheater             flavian     1             ⋯ Spain         \n",
       "6  gallo-roman-amphitheater flavian     1             ⋯ France        \n",
       "7  amphitheater             flavian     1             ⋯ France        \n",
       "8  amphitheater             flavian     1             ⋯ United Kingdom\n",
       "9  amphitheater             flavian     1             ⋯ Italy         \n",
       "10 amphitheater             flavian     1             ⋯ United Kingdom\n",
       "11 amphitheater             flavian     1             ⋯ Italy         \n",
       "12 amphitheater             flavian     1             ⋯ Switzerland   \n",
       "13 amphitheater             flavian     1             ⋯ France        \n",
       "14 amphitheater             flavian     1             ⋯ Algeria       \n",
       "15 amphitheater             flavian     1             ⋯ Italy         \n",
       "16 amphitheater             flavian     1             ⋯ Italy         \n",
       "17 amphitheater             flavian     1             ⋯ Italy         \n",
       "18 amphitheater             flavian     1             ⋯ France        \n",
       "19 amphitheater             flavian     1             ⋯ Italy         \n",
       "20 amphitheater             flavian     1             ⋯ United Kingdom\n",
       "21 amphitheater             flavian     1             ⋯ France        \n",
       "22 amphitheater             flavian     1             ⋯ Portugal      \n",
       "23 amphitheater             flavian     1             ⋯ United Kingdom\n",
       "   romanregion       arenamajor arenaminor extmajor extminor exteriorheight\n",
       "1  narbonensis       47.00      32.00      136.0    107.0                  \n",
       "2  regio-i           83.00      48.00      189.0    156.0    52.0          \n",
       "3  britannia         37.00      23.00       70.0     60.0                  \n",
       "4  regio-i           74.80      42.00      149.0    116.0                  \n",
       "5  tarraconensis     47.00      31.00       75.0     64.0                  \n",
       "6  lugdunensis        0.00       0.00        0.0      0.0                  \n",
       "7  narbonensis       69.10      38.40      133.4    101.4                  \n",
       "8  britannia         56.70      48.30       95.5     86.6                  \n",
       "9  regio-vii         71.90      42.70      109.4     80.0                  \n",
       "10 britannia         60.00      40.00      100.0     85.0                  \n",
       "11 regio-v           59.00      35.00       98.0     71.0                  \n",
       "12 germania-superior 64.00      51.00      112.0     98.0                  \n",
       "13 narbonensis       67.70      39.70      113.7     85.7                  \n",
       "14 proconsularis     52.80      39.50       83.0     70.0                  \n",
       "15 regio-x           72.00      46.00      142.0    118.0                  \n",
       "16 sicilia           53.00      30.00       98.0     75.0                  \n",
       "17 regio-vii          0.00       0.00        0.0      0.0                  \n",
       "18 narbonensis       75.00      46.60      121.6     93.2                  \n",
       "19 regio-i           76.12      45.83      165.0    135.0                  \n",
       "20 britannia         58.00      47.00       80.0     77.0                  \n",
       "21 lugdunensis       74.00      49.00      154.0    130.0                  \n",
       "22 lusitania         50.00      40.00        0.0      0.0                  \n",
       "23 britannia          0.00       0.00       70.0     60.0                  \n",
       "   longitude latitude elevation\n",
       "1   4.631111 43.67778  21      \n",
       "2  12.492269 41.89017  22      \n",
       "3  -2.691900 55.60260  83      \n",
       "4  14.125315 40.82593  41      \n",
       "5  -2.813944 39.88602 817      \n",
       "6   2.352855 48.84510  46      \n",
       "7   4.359599 43.83488  50      \n",
       "8  -2.886928 53.18908  23      \n",
       "9  11.880370 43.46049 263      \n",
       "10 -0.092136 51.51552  29      \n",
       "11 13.387224 43.20088 219      \n",
       "12  8.213605 47.47629 361      \n",
       "13  6.728710 43.43446  12      \n",
       "14  8.123809 35.40117 877      \n",
       "15 13.370713 45.76824   2      \n",
       "16 13.695186 37.98370  76      \n",
       "17 11.990158 42.65024 417      \n",
       "18  3.010181 43.18487  14      \n",
       "19 14.250089 41.08593  34      \n",
       "20 -2.440246 50.70804  78      \n",
       "21  4.310856 46.95300 317      \n",
       "22 -7.893572 40.36109 383      \n",
       "23 -0.771186 50.83539  14      "
      ]
     },
     "metadata": {},
     "output_type": "display_data"
    }
   ],
   "source": [
    "# write the query to get the information you want\n",
    "\n",
    "myQuery <- dbSendQuery(con, \"SELECT * FROM amphi WHERE chronogroup = 'flavian'\")\n",
    "\n",
    "# pass that information to an R object. The n = -1 bit means grab everything until there's nothing left to grab. Otherwise, you can specify how many rows etc.\n",
    "\n",
    "my_data <- dbFetch(myQuery, n = -1)\n",
    "\n",
    "my_data"
   ]
  },
  {
   "cell_type": "code",
   "execution_count": 8,
   "metadata": {},
   "outputs": [],
   "source": [
    "# now that we're done, clear cache \n",
    "# so that we don't eat up all the memory\n",
    "dbClearResult(myQuery)\n",
    "\n",
    "# now carry on and begin manipulating my_data\n",
    "# for more information see\n",
    "# http://tiffanytimbers.com/querying-sqlite-databases-from-r/\n",
    "# also perhaps this https://www.r-bloggers.com/using-sqlite-in-r/"
   ]
  },
  {
   "cell_type": "code",
   "execution_count": 15,
   "metadata": {},
   "outputs": [],
   "source": [
    "# let's make a new dataframe with just the elevation and capacity columns\n",
    "# you could have done this with an SQL query from our original database.\n",
    "# here we're just going to extract from the dataframe we created above\n",
    "\n",
    "amphi_stats <- subset(my_data, select=c(\"id\",\"elevation\",\"capacity\"))\n",
    "\n",
    "#\"create new datafram called amph_stats and pass into it a subset of my_data, returning the array id, elevation, capacity\""
   ]
  },
  {
   "cell_type": "code",
   "execution_count": 16,
   "metadata": {},
   "outputs": [
    {
     "data": {
      "text/html": [
       "<table>\n",
       "<thead><tr><th scope=col>id</th><th scope=col>elevation</th><th scope=col>capacity</th></tr></thead>\n",
       "<tbody>\n",
       "\t<tr><td>arlesAmphitheater          </td><td> 21                        </td><td>20000                      </td></tr>\n",
       "\t<tr><td>romeFlavianAmphitheater    </td><td> 22                        </td><td>50000                      </td></tr>\n",
       "\t<tr><td>newsteadAmphitheater       </td><td> 83                        </td><td> 1500                      </td></tr>\n",
       "\t<tr><td>pozzuoliFlavianAmphitheater</td><td> 41                        </td><td>35700                      </td></tr>\n",
       "\t<tr><td>segobrigaAmphitheater      </td><td>817                        </td><td> 7500                      </td></tr>\n",
       "\t<tr><td>parisAmphitheater          </td><td> 46                        </td><td>15000                      </td></tr>\n",
       "\t<tr><td>nimesAmphitheater          </td><td> 50                        </td><td>24000                      </td></tr>\n",
       "\t<tr><td>chesterAmphitheater        </td><td> 23                        </td><td>    0                      </td></tr>\n",
       "\t<tr><td>arezzoAmphitheater         </td><td>263                        </td><td> 8000                      </td></tr>\n",
       "\t<tr><td>londonAmphitheater         </td><td> 29                        </td><td> 6500                      </td></tr>\n",
       "\t<tr><td>urbisagliaAmphitheater     </td><td>219                        </td><td> 5150                      </td></tr>\n",
       "\t<tr><td>vindonissaAmphitheater     </td><td>361                        </td><td>15142                      </td></tr>\n",
       "\t<tr><td>frejusAmphitheater         </td><td> 12                        </td><td>12000                      </td></tr>\n",
       "\t<tr><td>tebessaAmphitheater        </td><td>877                        </td><td> 9400                      </td></tr>\n",
       "\t<tr><td>aquileiaAmphitheater       </td><td>  2                        </td><td>    0                      </td></tr>\n",
       "\t<tr><td>terminiImereseAmphitheater </td><td> 76                        </td><td>    0                      </td></tr>\n",
       "\t<tr><td>bolsenaAmphitheater        </td><td>417                        </td><td>    0                      </td></tr>\n",
       "\t<tr><td>narbonneAmphitheater       </td><td> 14                        </td><td>    0                      </td></tr>\n",
       "\t<tr><td>capuaImperialAmphitheater  </td><td> 34                        </td><td>37000                      </td></tr>\n",
       "\t<tr><td>dorchesterAmphitheater     </td><td> 78                        </td><td>    0                      </td></tr>\n",
       "\t<tr><td>autunAmphitheater          </td><td>317                        </td><td>    0                      </td></tr>\n",
       "\t<tr><td>bobadelaAmphitheater       </td><td>383                        </td><td>    0                      </td></tr>\n",
       "\t<tr><td>chichesterAmphitheater     </td><td> 14                        </td><td>    0                      </td></tr>\n",
       "</tbody>\n",
       "</table>\n"
      ],
      "text/latex": [
       "\\begin{tabular}{r|lll}\n",
       " id & elevation & capacity\\\\\n",
       "\\hline\n",
       "\t arlesAmphitheater           &  21                         & 20000                      \\\\\n",
       "\t romeFlavianAmphitheater     &  22                         & 50000                      \\\\\n",
       "\t newsteadAmphitheater        &  83                         &  1500                      \\\\\n",
       "\t pozzuoliFlavianAmphitheater &  41                         & 35700                      \\\\\n",
       "\t segobrigaAmphitheater       & 817                         &  7500                      \\\\\n",
       "\t parisAmphitheater           &  46                         & 15000                      \\\\\n",
       "\t nimesAmphitheater           &  50                         & 24000                      \\\\\n",
       "\t chesterAmphitheater         &  23                         &     0                      \\\\\n",
       "\t arezzoAmphitheater          & 263                         &  8000                      \\\\\n",
       "\t londonAmphitheater          &  29                         &  6500                      \\\\\n",
       "\t urbisagliaAmphitheater      & 219                         &  5150                      \\\\\n",
       "\t vindonissaAmphitheater      & 361                         & 15142                      \\\\\n",
       "\t frejusAmphitheater          &  12                         & 12000                      \\\\\n",
       "\t tebessaAmphitheater         & 877                         &  9400                      \\\\\n",
       "\t aquileiaAmphitheater        &   2                         &     0                      \\\\\n",
       "\t terminiImereseAmphitheater  &  76                         &     0                      \\\\\n",
       "\t bolsenaAmphitheater         & 417                         &     0                      \\\\\n",
       "\t narbonneAmphitheater        &  14                         &     0                      \\\\\n",
       "\t capuaImperialAmphitheater   &  34                         & 37000                      \\\\\n",
       "\t dorchesterAmphitheater      &  78                         &     0                      \\\\\n",
       "\t autunAmphitheater           & 317                         &     0                      \\\\\n",
       "\t bobadelaAmphitheater        & 383                         &     0                      \\\\\n",
       "\t chichesterAmphitheater      &  14                         &     0                      \\\\\n",
       "\\end{tabular}\n"
      ],
      "text/markdown": [
       "\n",
       "id | elevation | capacity | \n",
       "|---|---|---|---|---|---|---|---|---|---|---|---|---|---|---|---|---|---|---|---|---|---|---|\n",
       "| arlesAmphitheater           |  21                         | 20000                       | \n",
       "| romeFlavianAmphitheater     |  22                         | 50000                       | \n",
       "| newsteadAmphitheater        |  83                         |  1500                       | \n",
       "| pozzuoliFlavianAmphitheater |  41                         | 35700                       | \n",
       "| segobrigaAmphitheater       | 817                         |  7500                       | \n",
       "| parisAmphitheater           |  46                         | 15000                       | \n",
       "| nimesAmphitheater           |  50                         | 24000                       | \n",
       "| chesterAmphitheater         |  23                         |     0                       | \n",
       "| arezzoAmphitheater          | 263                         |  8000                       | \n",
       "| londonAmphitheater          |  29                         |  6500                       | \n",
       "| urbisagliaAmphitheater      | 219                         |  5150                       | \n",
       "| vindonissaAmphitheater      | 361                         | 15142                       | \n",
       "| frejusAmphitheater          |  12                         | 12000                       | \n",
       "| tebessaAmphitheater         | 877                         |  9400                       | \n",
       "| aquileiaAmphitheater        |   2                         |     0                       | \n",
       "| terminiImereseAmphitheater  |  76                         |     0                       | \n",
       "| bolsenaAmphitheater         | 417                         |     0                       | \n",
       "| narbonneAmphitheater        |  14                         |     0                       | \n",
       "| capuaImperialAmphitheater   |  34                         | 37000                       | \n",
       "| dorchesterAmphitheater      |  78                         |     0                       | \n",
       "| autunAmphitheater           | 317                         |     0                       | \n",
       "| bobadelaAmphitheater        | 383                         |     0                       | \n",
       "| chichesterAmphitheater      |  14                         |     0                       | \n",
       "\n",
       "\n"
      ],
      "text/plain": [
       "   id                          elevation capacity\n",
       "1  arlesAmphitheater            21       20000   \n",
       "2  romeFlavianAmphitheater      22       50000   \n",
       "3  newsteadAmphitheater         83        1500   \n",
       "4  pozzuoliFlavianAmphitheater  41       35700   \n",
       "5  segobrigaAmphitheater       817        7500   \n",
       "6  parisAmphitheater            46       15000   \n",
       "7  nimesAmphitheater            50       24000   \n",
       "8  chesterAmphitheater          23           0   \n",
       "9  arezzoAmphitheater          263        8000   \n",
       "10 londonAmphitheater           29        6500   \n",
       "11 urbisagliaAmphitheater      219        5150   \n",
       "12 vindonissaAmphitheater      361       15142   \n",
       "13 frejusAmphitheater           12       12000   \n",
       "14 tebessaAmphitheater         877        9400   \n",
       "15 aquileiaAmphitheater          2           0   \n",
       "16 terminiImereseAmphitheater   76           0   \n",
       "17 bolsenaAmphitheater         417           0   \n",
       "18 narbonneAmphitheater         14           0   \n",
       "19 capuaImperialAmphitheater    34       37000   \n",
       "20 dorchesterAmphitheater       78           0   \n",
       "21 autunAmphitheater           317           0   \n",
       "22 bobadelaAmphitheater        383           0   \n",
       "23 chichesterAmphitheater       14           0   "
      ]
     },
     "metadata": {},
     "output_type": "display_data"
    }
   ],
   "source": [
    "amphi_stats"
   ]
  },
  {
   "cell_type": "markdown",
   "metadata": {},
   "source": [
    "At this point, now that you know how to get your data out of the database, you could do a number of other kinds of data manipulations; it really depends on the kind of investigation you wish to do. Consult Marwick et al [How to Do Archaeological Science Using R](https://benmarwick.github.io/How-To-Do-Archaeological-Science-Using-R/index.html).\n",
    "\n",
    "We'll end this notebook with a simple visual plot of the data."
   ]
  },
  {
   "cell_type": "code",
   "execution_count": 18,
   "metadata": {},
   "outputs": [
    {
     "data": {
      "image/png": "[encoded data removed]",
      "text/plain": [
       "plot without title"
      ]
     },
     "metadata": {},
     "output_type": "display_data"
    }
   ],
   "source": [
    "# a simple x,y plot\n",
    "plot(amphi_stats$elevation, amphi_stats$capacity)"
   ]
  },
  {
   "cell_type": "code",
   "execution_count": 25,
   "metadata": {},
   "outputs": [
    {
     "data": {
      "text/html": [
       "<strong>png:</strong> 2"
      ],
      "text/latex": [
       "\\textbf{png:} 2"
      ],
      "text/markdown": [
       "**png:** 2"
      ],
      "text/plain": [
       "png \n",
       "  2 "
      ]
     },
     "metadata": {},
     "output_type": "display_data"
    }
   ],
   "source": [
    "# but that's ugly. let's make it pretty\n",
    "\n",
    "# Get the input values. \n",
    "input <- amphi_stats[,c('elevation','capacity')]\n",
    "\n",
    "# Give the chart file a name.\n",
    "png(file = \"R-scatterplot.png\")\n",
    "\n",
    "# Plot the chart for cars with weight between 2.5 to 5 and mileage between 15 and 30.\n",
    "plot(x = input$elevation,y = input$capacity,\n",
    "   xlab = \"Elevation\",\n",
    "   ylab = \"Capacity\", \n",
    "   xlim = c(0,1000),\n",
    "   ylim = c(500,60000),\n",
    "   main = \"Elevation vs Capacity in Flavian Amphitheatres\"\n",
    ")\n",
    "\t \n",
    "# Save the file.\n",
    "dev.off()\n",
    "\n"
   ]
  },
  {
   "cell_type": "markdown",
   "metadata": {},
   "source": [
    "The scatterplot is now available if you right-click on 'jupyter' at the top of the window and open in a new browser window; you'll see it in the list of files."
   ]
  }
 ],
 "metadata": {
  "kernelspec": {
   "display_name": "R",
   "language": "R",
   "name": "ir"
  },
  "language_info": {
   "codemirror_mode": "r",
   "file_extension": ".r",
   "mimetype": "text/x-r-source",
   "name": "R",
   "pygments_lexer": "r",
   "version": "3.4.4"
  }
 },
 "nbformat": 4,
 "nbformat_minor": 2
}
