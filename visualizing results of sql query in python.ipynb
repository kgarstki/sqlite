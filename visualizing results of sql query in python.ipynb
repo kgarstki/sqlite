{
 "cells": [
  {
   "cell_type": "markdown",
   "metadata": {},
   "source": [
    "# Analyzing and Visualizing Data From a Database\n",
    "\n",
    "In the [previous notebook](intro%20to%20sql.ipynb) you combined some csv tables into a SQLite database. You learned how to write various queries to examine the data. In this notebook, you'll write a query into a 'dataframe', a table that you can then manipulate or visualize.\n",
    "\n",
    "*NB* you need to have created the `roman.db` in the first notebook (part one of that notebook) before you can progress any further here."
   ]
  },
  {
   "cell_type": "code",
   "execution_count": 1,
   "metadata": {},
   "outputs": [],
   "source": [
    "# We tell python to use the sqlite3 and pandas modules\n",
    "\n",
    "import sqlite3\n",
    "import pandas as pd\n",
    "\n",
    "# we connect our database\n",
    "db = sqlite3.connect('roman.db')"
   ]
  },
  {
   "cell_type": "code",
   "execution_count": 12,
   "metadata": {},
   "outputs": [],
   "source": [
    "# now we run a query; but unlike in the previous notebook, we'll put all of the SQL commands on a single line\n",
    "# the line below defines a dataframe, 'df', and uses the pandas command pd.read_sql_query to run a query on the database connection we defined above, db.\n",
    "\n",
    "df = pd.read_sql_query(\"SELECT id, elevation, capacity FROM amphi ORDER BY elevation DESC\", db)"
   ]
  },
  {
   "cell_type": "code",
   "execution_count": 19,
   "metadata": {},
   "outputs": [
    {
     "data": {
      "text/html": [
       "<div>\n",
       "<style scoped>\n",
       "    .dataframe tbody tr th:only-of-type {\n",
       "        vertical-align: middle;\n",
       "    }\n",
       "\n",
       "    .dataframe tbody tr th {\n",
       "        vertical-align: top;\n",
       "    }\n",
       "\n",
       "    .dataframe thead th {\n",
       "        text-align: right;\n",
       "    }\n",
       "</style>\n",
       "<table border=\"1\" class=\"dataframe\">\n",
       "  <thead>\n",
       "    <tr style=\"text-align: right;\">\n",
       "      <th></th>\n",
       "      <th>id</th>\n",
       "      <th>elevation</th>\n",
       "      <th>capacity</th>\n",
       "    </tr>\n",
       "  </thead>\n",
       "  <tbody>\n",
       "    <tr>\n",
       "      <th>0</th>\n",
       "      <td>lambaesisAmphitheater</td>\n",
       "      <td>1170</td>\n",
       "      <td>15400</td>\n",
       "    </tr>\n",
       "    <tr>\n",
       "      <th>1</th>\n",
       "      <td>albaFucensAmphitheater</td>\n",
       "      <td>977</td>\n",
       "      <td>10720</td>\n",
       "    </tr>\n",
       "    <tr>\n",
       "      <th>2</th>\n",
       "      <td>mactarisAmphitheater</td>\n",
       "      <td>911</td>\n",
       "      <td>5000</td>\n",
       "    </tr>\n",
       "    <tr>\n",
       "      <th>3</th>\n",
       "      <td>tebessaAmphitheater</td>\n",
       "      <td>877</td>\n",
       "      <td>9400</td>\n",
       "    </tr>\n",
       "    <tr>\n",
       "      <th>4</th>\n",
       "      <td>leonAmphitheater</td>\n",
       "      <td>846</td>\n",
       "      <td></td>\n",
       "    </tr>\n",
       "    <tr>\n",
       "      <th>5</th>\n",
       "      <td>bostraAmphitheater</td>\n",
       "      <td>845</td>\n",
       "      <td></td>\n",
       "    </tr>\n",
       "    <tr>\n",
       "      <th>6</th>\n",
       "      <td>segobrigaAmphitheater</td>\n",
       "      <td>817</td>\n",
       "      <td>7500</td>\n",
       "    </tr>\n",
       "    <tr>\n",
       "      <th>7</th>\n",
       "      <td>siccaVeneriaAmphitheater</td>\n",
       "      <td>748</td>\n",
       "      <td>11300</td>\n",
       "    </tr>\n",
       "    <tr>\n",
       "      <th>8</th>\n",
       "      <td>sanBenedettoDeiMarsiAmphitheater</td>\n",
       "      <td>683</td>\n",
       "      <td></td>\n",
       "    </tr>\n",
       "    <tr>\n",
       "      <th>9</th>\n",
       "      <td>sanVittorinoAmphitheater</td>\n",
       "      <td>672</td>\n",
       "      <td>20000</td>\n",
       "    </tr>\n",
       "  </tbody>\n",
       "</table>\n",
       "</div>"
      ],
      "text/plain": [
       "                                 id  elevation capacity\n",
       "0             lambaesisAmphitheater       1170    15400\n",
       "1            albaFucensAmphitheater        977    10720\n",
       "2              mactarisAmphitheater        911     5000\n",
       "3               tebessaAmphitheater        877     9400\n",
       "4                  leonAmphitheater        846         \n",
       "5                bostraAmphitheater        845         \n",
       "6             segobrigaAmphitheater        817     7500\n",
       "7          siccaVeneriaAmphitheater        748    11300\n",
       "8  sanBenedettoDeiMarsiAmphitheater        683         \n",
       "9          sanVittorinoAmphitheater        672    20000"
      ]
     },
     "execution_count": 19,
     "metadata": {},
     "output_type": "execute_result"
    }
   ],
   "source": [
    "# let's check that we got the info. we call the first five rows of the dataframe like so:\n",
    "\n",
    "df[0:10]"
   ]
  },
  {
   "cell_type": "code",
   "execution_count": 37,
   "metadata": {},
   "outputs": [
    {
     "data": {
      "text/plain": [
       "True"
      ]
     },
     "execution_count": 37,
     "metadata": {},
     "output_type": "execute_result"
    }
   ],
   "source": [
    "# those empty cells are problematic\n",
    "# Pandas expects missing values to be coded NaN rather than just be empty cells.\n",
    "\n",
    "# We need to check to see whether or not our data is actually numeric\n",
    "\n",
    "from pandas.api.types import is_string_dtype\n",
    "from pandas.api.types import is_numeric_dtype\n",
    "\n",
    "# is the data of the type 'string'?\n",
    "is_string_dtype(df['capacity'])\n"
   ]
  },
  {
   "cell_type": "code",
   "execution_count": 36,
   "metadata": {},
   "outputs": [
    {
     "data": {
      "text/plain": [
       "False"
      ]
     },
     "execution_count": 36,
     "metadata": {},
     "output_type": "execute_result"
    }
   ],
   "source": [
    "# is the data of the type 'numeric'? We need it to be numeric in order to plot it.\n",
    "is_numeric_dtype(df['capacity'])"
   ]
  },
  {
   "cell_type": "code",
   "execution_count": 42,
   "metadata": {},
   "outputs": [],
   "source": [
    "# We covert the column to the numeric data type.\n",
    "df['capacity'] = df['capacity'].apply(pd.to_numeric, errors='coerce')"
   ]
  },
  {
   "cell_type": "code",
   "execution_count": 43,
   "metadata": {},
   "outputs": [
    {
     "data": {
      "text/plain": [
       "False"
      ]
     },
     "execution_count": 43,
     "metadata": {},
     "output_type": "execute_result"
    }
   ],
   "source": [
    "# checking to see\n",
    "is_string_dtype(df['capacity'])"
   ]
  },
  {
   "cell_type": "code",
   "execution_count": 44,
   "metadata": {},
   "outputs": [
    {
     "data": {
      "text/html": [
       "<div>\n",
       "<style scoped>\n",
       "    .dataframe tbody tr th:only-of-type {\n",
       "        vertical-align: middle;\n",
       "    }\n",
       "\n",
       "    .dataframe tbody tr th {\n",
       "        vertical-align: top;\n",
       "    }\n",
       "\n",
       "    .dataframe thead th {\n",
       "        text-align: right;\n",
       "    }\n",
       "</style>\n",
       "<table border=\"1\" class=\"dataframe\">\n",
       "  <thead>\n",
       "    <tr style=\"text-align: right;\">\n",
       "      <th></th>\n",
       "      <th>id</th>\n",
       "      <th>elevation</th>\n",
       "      <th>capacity</th>\n",
       "    </tr>\n",
       "  </thead>\n",
       "  <tbody>\n",
       "    <tr>\n",
       "      <th>0</th>\n",
       "      <td>lambaesisAmphitheater</td>\n",
       "      <td>1170</td>\n",
       "      <td>15400.0</td>\n",
       "    </tr>\n",
       "    <tr>\n",
       "      <th>1</th>\n",
       "      <td>albaFucensAmphitheater</td>\n",
       "      <td>977</td>\n",
       "      <td>10720.0</td>\n",
       "    </tr>\n",
       "    <tr>\n",
       "      <th>2</th>\n",
       "      <td>mactarisAmphitheater</td>\n",
       "      <td>911</td>\n",
       "      <td>5000.0</td>\n",
       "    </tr>\n",
       "    <tr>\n",
       "      <th>3</th>\n",
       "      <td>tebessaAmphitheater</td>\n",
       "      <td>877</td>\n",
       "      <td>9400.0</td>\n",
       "    </tr>\n",
       "    <tr>\n",
       "      <th>4</th>\n",
       "      <td>leonAmphitheater</td>\n",
       "      <td>846</td>\n",
       "      <td>NaN</td>\n",
       "    </tr>\n",
       "  </tbody>\n",
       "</table>\n",
       "</div>"
      ],
      "text/plain": [
       "                       id  elevation  capacity\n",
       "0   lambaesisAmphitheater       1170   15400.0\n",
       "1  albaFucensAmphitheater        977   10720.0\n",
       "2    mactarisAmphitheater        911    5000.0\n",
       "3     tebessaAmphitheater        877    9400.0\n",
       "4        leonAmphitheater        846       NaN"
      ]
     },
     "execution_count": 44,
     "metadata": {},
     "output_type": "execute_result"
    }
   ],
   "source": [
    "# compare the results here with the first time we looked. What's different?\n",
    "df[0:5]"
   ]
  },
  {
   "cell_type": "code",
   "execution_count": 45,
   "metadata": {},
   "outputs": [],
   "source": [
    "# Now we can begin to plot data.\n",
    "# to plot things with pandas, we also need a package called matplotlib\n",
    "%matplotlib inline\n",
    "import matplotlib.pyplot as plt\n"
   ]
  },
  {
   "cell_type": "code",
   "execution_count": 46,
   "metadata": {},
   "outputs": [
    {
     "data": {
      "image/png": "[encoded data removed]",
      "text/plain": [
       "<Figure size 432x288 with 1 Axes>"
      ]
     },
     "metadata": {},
     "output_type": "display_data"
    }
   ],
   "source": [
    "# here's how we make a simple scatter plot\n",
    "# you will be able to find lots of documentation online for the various kinds of things matplotlib can do.\n",
    "\n",
    "X = [590,540,740,130,810,300,320,230,470,620,770,250]\n",
    "Y = [32,36,39,52,61,72,77,75,68,57,48,48]\n",
    "\n",
    "plt.scatter(X,Y)\n",
    "plt.show()"
   ]
  },
  {
   "cell_type": "code",
   "execution_count": 48,
   "metadata": {},
   "outputs": [
    {
     "data": {
      "image/png": "[encoded data removed]",
      "text/plain": [
       "<Figure size 432x288 with 1 Axes>"
      ]
     },
     "metadata": {},
     "output_type": "display_data"
    }
   ],
   "source": [
    "# Let's plot elevation against capacity. There are many ways of doing it; here we show two that both produce the same result. Uncomment and comment out (remove or add the #) to try one versus the other\n",
    "df.plot.scatter('elevation', 'capacity')\n",
    "# plt.scatter(df['elevation'], df['capacity'])\n",
    "plt.show()"
   ]
  },
  {
   "cell_type": "code",
   "execution_count": 51,
   "metadata": {},
   "outputs": [
    {
     "data": {
      "text/plain": [
       "Text(0,0.5,'Capacity')"
      ]
     },
     "execution_count": 51,
     "metadata": {},
     "output_type": "execute_result"
    },
    {
     "data": {
      "image/png": "[encoded data removed]",
      "text/plain": [
       "<Figure size 432x288 with 1 Axes>"
      ]
     },
     "metadata": {},
     "output_type": "display_data"
    }
   ],
   "source": [
    "# Let's make the plot pretty\n",
    "\n",
    "plt.scatter(df['elevation'], df['capacity'])\n",
    "#add title\n",
    "plt.title('Relationship Between Elevation and Capacity in Roman Amphitheatres')\n",
    "\n",
    "#add x and y labels\n",
    "plt.xlabel('Elevation')\n",
    "plt.ylabel('Capacity')"
   ]
  },
  {
   "cell_type": "code",
   "execution_count": 67,
   "metadata": {},
   "outputs": [],
   "source": [
    "# let's print the plot to raster and to vector image\n",
    "# solution courtesy https://stackoverflow.com/questions/9622163/save-plot-to-image-file-instead-of-displaying-it-using-matplotlib\n",
    "\n",
    "fig, ax = plt.subplots( nrows=1, ncols=1 )  # create figure & 1 axis\n",
    "ax.scatter(df['elevation'], df['capacity']) \n",
    "plt.title('Relationship Between Elevation and Capacity \\n in Roman Amphitheatres') # the \\n is an escape character that tells the machine to insert a newline\n",
    "plt.ylabel('Capacity')\n",
    "plt.xlabel('Elevation')\n",
    "fig.savefig('demo.png')   # save the figure to file for raster image\n",
    "fig.savefig('demo.pdf') # save the figure to file for vector image\n",
    "plt.close(fig)    #"
   ]
  },
  {
   "cell_type": "code",
   "execution_count": null,
   "metadata": {},
   "outputs": [],
   "source": []
  }
 ],
 "metadata": {
  "kernelspec": {
   "display_name": "Python 3",
   "language": "python",
   "name": "python3"
  },
  "language_info": {
   "codemirror_mode": {
    "name": "ipython",
    "version": 3
   },
   "file_extension": ".py",
   "mimetype": "text/x-python",
   "name": "python",
   "nbconvert_exporter": "python",
   "pygments_lexer": "ipython3",
   "version": "3.6.5"
  }
 },
 "nbformat": 4,
 "nbformat_minor": 2
}
